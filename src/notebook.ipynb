{
 "cells": [
  {
   "cell_type": "markdown",
   "metadata": {},
   "source": [
    "tratamento de dados dos dados de diversos paises da netflix"
   ]
  },
  {
   "cell_type": "code",
   "execution_count": 54,
   "metadata": {},
   "outputs": [],
   "source": [
    "#importação da biblioteca divônica\n",
    "import pandas as pd\n",
    "\n",
    "#outras bibliotecas para manipular nossos dados\n",
    "import xlsxwriter\n",
    "import openpyxl\n",
    "\n",
    "#manipular diretorios em massa\n",
    "import glob\n",
    "\n",
    "#manipulação do sistema operacional\n",
    "import os"
   ]
  },
  {
   "cell_type": "markdown",
   "metadata": {},
   "source": [
    "começando a arrumar\n",
    "1-confiabilidade e rastreabilidade dos dados\n",
    "2-extrair\n",
    "3-transformar\n",
    "4-carregar"
   ]
  },
  {
   "cell_type": "code",
   "execution_count": 55,
   "metadata": {},
   "outputs": [
    {
     "name": "stdout",
     "output_type": "stream",
     "text": [
      "['C:\\\\Users\\\\nicol\\\\Desktop\\\\etl\\\\netflix-dataset\\\\src\\\\data\\\\raw\\\\netflix_202401_brasil.xlsx', 'C:\\\\Users\\\\nicol\\\\Desktop\\\\etl\\\\netflix-dataset\\\\src\\\\data\\\\raw\\\\netflix_202401_france.xlsx', 'C:\\\\Users\\\\nicol\\\\Desktop\\\\etl\\\\netflix-dataset\\\\src\\\\data\\\\raw\\\\netflix_202402_brasil.xlsx', 'C:\\\\Users\\\\nicol\\\\Desktop\\\\etl\\\\netflix-dataset\\\\src\\\\data\\\\raw\\\\netflix_202402_france.xlsx', 'C:\\\\Users\\\\nicol\\\\Desktop\\\\etl\\\\netflix-dataset\\\\src\\\\data\\\\raw\\\\netflix_202403_brasil.xlsx', 'C:\\\\Users\\\\nicol\\\\Desktop\\\\etl\\\\netflix-dataset\\\\src\\\\data\\\\raw\\\\netflix_202403_france.xlsx', 'C:\\\\Users\\\\nicol\\\\Desktop\\\\etl\\\\netflix-dataset\\\\src\\\\data\\\\raw\\\\netflix_202404_brasil.xlsx', 'C:\\\\Users\\\\nicol\\\\Desktop\\\\etl\\\\netflix-dataset\\\\src\\\\data\\\\raw\\\\netflix_202404_france.xlsx', 'C:\\\\Users\\\\nicol\\\\Desktop\\\\etl\\\\netflix-dataset\\\\src\\\\data\\\\raw\\\\netflix_202405_brasil.xlsx', 'C:\\\\Users\\\\nicol\\\\Desktop\\\\etl\\\\netflix-dataset\\\\src\\\\data\\\\raw\\\\netflix_202405_france.xlsx', 'C:\\\\Users\\\\nicol\\\\Desktop\\\\etl\\\\netflix-dataset\\\\src\\\\data\\\\raw\\\\netflix_202406_brasil.xlsx', 'C:\\\\Users\\\\nicol\\\\Desktop\\\\etl\\\\netflix-dataset\\\\src\\\\data\\\\raw\\\\netflix_202406_france.xlsx', 'C:\\\\Users\\\\nicol\\\\Desktop\\\\etl\\\\netflix-dataset\\\\src\\\\data\\\\raw\\\\netflix_202407_brasil.xlsx', 'C:\\\\Users\\\\nicol\\\\Desktop\\\\etl\\\\netflix-dataset\\\\src\\\\data\\\\raw\\\\netflix_202407_france.xlsx', 'C:\\\\Users\\\\nicol\\\\Desktop\\\\etl\\\\netflix-dataset\\\\src\\\\data\\\\raw\\\\netflix_202491_italian.xlsx', 'C:\\\\Users\\\\nicol\\\\Desktop\\\\etl\\\\netflix-dataset\\\\src\\\\data\\\\raw\\\\netflix_202492_italian.xlsx', 'C:\\\\Users\\\\nicol\\\\Desktop\\\\etl\\\\netflix-dataset\\\\src\\\\data\\\\raw\\\\netflix_202493_italian.xlsx', 'C:\\\\Users\\\\nicol\\\\Desktop\\\\etl\\\\netflix-dataset\\\\src\\\\data\\\\raw\\\\netflix_202494_italian.xlsx', 'C:\\\\Users\\\\nicol\\\\Desktop\\\\etl\\\\netflix-dataset\\\\src\\\\data\\\\raw\\\\netflix_202495_italian.xlsx', 'C:\\\\Users\\\\nicol\\\\Desktop\\\\etl\\\\netflix-dataset\\\\src\\\\data\\\\raw\\\\netflix_202496_italian.xlsx', 'C:\\\\Users\\\\nicol\\\\Desktop\\\\etl\\\\netflix-dataset\\\\src\\\\data\\\\raw\\\\netflix_202497_italian.xlsx', 'C:\\\\Users\\\\nicol\\\\Desktop\\\\etl\\\\netflix-dataset\\\\src\\\\data\\\\raw\\\\netflix_202498_italian.xlsx']\n"
     ]
    }
   ],
   "source": [
    "#caminho dos arquivos excel\n",
    "caminho_pasta='C:\\\\Users\\\\nicol\\\\Desktop\\\\etl\\\\netflix-dataset\\\\src\\\\data\\\\raw'\n",
    "\n",
    "#lista todos os arquivos do execel de forma dinamica, juntando todos os arquivos xlsx\n",
    "arquivos_excel=glob.glob(os.path.join(caminho_pasta,'*.xlsx'))\n",
    "\n",
    "# Verificação adicional para garantir que encontrou algo\n",
    "if not arquivos_excel:\n",
    "    print(\"Nenhum arquivo .xlsx encontrado no caminho especificado.\")\n",
    "else:\n",
    "    print(arquivos_excel)"
   ]
  },
  {
   "cell_type": "code",
   "execution_count": 56,
   "metadata": {},
   "outputs": [],
   "source": [
    "#criar vetor de dataframes para guardar os excel\n",
    "dfs=[]\n",
    "\n",
    "for arquivo_excel in arquivos_excel:\n",
    "    try:\n",
    "        #dataframe temporario para guardar as informações de cada arquivo\n",
    "        df_temp=pd.read_excel(arquivo_excel)\n",
    "        \n",
    "        #pega o nome do arquivo e coloca na nova coluna location\n",
    "        #poderia ser feito com split, mas pode ser perigoso as futuras nomeações de arquivos, pois se o padrão for diferente, pode contaminar nossa coluna location\n",
    "        nome_arquivo=os.path.basename(arquivo_excel)\n",
    "        if 'brasil' in nome_arquivo.lower():\n",
    "            df_temp['location']='br'\n",
    "        elif 'france' in nome_arquivo.lower():\n",
    "            df_temp['location']='fr'    \n",
    "        elif 'italian' in nome_arquivo.lower():\n",
    "            df_temp['location']='it' \n",
    "            \n",
    "        #adicionar coluna com o nome do arquivo\n",
    "        df_temp['file_name']=nome_arquivo\n",
    "            \n",
    "        #carregar dados na nova coluna campanha baseado no link que possui a identificação da campanha\n",
    "        df_temp['campaign']=df_temp['utm_link'].str.extract(r'utm_campaign=(.*)')\n",
    "        \n",
    "        #depois de pronto, entra em uma dataframe comum\n",
    "        dfs.append(df_temp)\n",
    "        \n",
    "        #print(df_temp)\n",
    "       \n",
    "    except Exception as e:#excesão para erros\n",
    "        print(f\"Erro ao ler arquivo {arquivo_excel}:{e}\")\n",
    "\n"
   ]
  },
  {
   "cell_type": "code",
   "execution_count": 57,
   "metadata": {},
   "outputs": [],
   "source": [
    "#verifica se ta vazio\n",
    "if dfs:\n",
    "    #tranforma tudo em uma tabela concatenada, pra gerar uma tabelona\n",
    "    result=pd.concat(dfs,ignore_index=True)\n",
    "    \n",
    "#print(result)\n",
    "    "
   ]
  },
  {
   "cell_type": "code",
   "execution_count": 58,
   "metadata": {},
   "outputs": [],
   "source": [
    "#agora o caminho de saida com o rolê finalizado\n",
    "arquivo_saida=os.path.join('C:\\\\Users\\\\nicol\\\\Desktop\\\\etl\\\\netflix-dataset\\\\src\\\\data\\\\ready','arquivo_limpo.xlsx')\n",
    "#print(arquivo_saida)\n",
    "\n",
    "#escreveu o arquivo com o nome e no diretório onde mandamos, em forma de excel\n",
    "write=pd.ExcelWriter(arquivo_saida,engine='xlsxwriter')\n",
    "\n",
    "#resultado, que é onde estão nossos dados, são escritos no execel configurado\n",
    "result.to_excel(write,sheet_name='base',index=True)\n",
    "\n",
    "#salvando o arquivo excel\n",
    "write._save()"
   ]
  }
 ],
 "metadata": {
  "kernelspec": {
   "display_name": "Python 3",
   "language": "python",
   "name": "python3"
  },
  "language_info": {
   "codemirror_mode": {
    "name": "ipython",
    "version": 3
   },
   "file_extension": ".py",
   "mimetype": "text/x-python",
   "name": "python",
   "nbconvert_exporter": "python",
   "pygments_lexer": "ipython3",
   "version": "3.12.2"
  }
 },
 "nbformat": 4,
 "nbformat_minor": 2
}
