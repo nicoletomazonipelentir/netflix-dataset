{
 "cells": [
  {
   "cell_type": "markdown",
   "metadata": {},
   "source": [
    "tratamento de dados dos dados de diversos paises da netflix"
   ]
  },
  {
   "cell_type": "code",
   "execution_count": 39,
   "metadata": {},
   "outputs": [],
   "source": [
    "#importação da biblioteca divônica\n",
    "import pandas as pd\n",
    "\n",
    "#outras bibliotecas para manipular nossos dados\n",
    "import xlsxwriter\n",
    "import openpyxl\n",
    "\n",
    "#manipular diretorios em massa\n",
    "import glob\n",
    "\n",
    "#manipulação do sistema operacional\n",
    "import os"
   ]
  },
  {
   "cell_type": "markdown",
   "metadata": {},
   "source": [
    "começando a arrumar\n",
    "1-confiabilidade e rastreabilidade dos dados\n",
    "2-extrair\n",
    "3-transformar\n",
    "4-carregar"
   ]
  },
  {
   "cell_type": "code",
   "execution_count": 40,
   "metadata": {},
   "outputs": [
    {
     "name": "stdout",
     "output_type": "stream",
     "text": [
      "['C:\\\\Users\\\\nicol\\\\Desktop\\\\etl\\\\netflix-dataset\\\\src\\\\data\\\\raw\\\\netflix_202401_brasil.xlsx', 'C:\\\\Users\\\\nicol\\\\Desktop\\\\etl\\\\netflix-dataset\\\\src\\\\data\\\\raw\\\\netflix_202401_france.xlsx', 'C:\\\\Users\\\\nicol\\\\Desktop\\\\etl\\\\netflix-dataset\\\\src\\\\data\\\\raw\\\\netflix_202402_brasil.xlsx', 'C:\\\\Users\\\\nicol\\\\Desktop\\\\etl\\\\netflix-dataset\\\\src\\\\data\\\\raw\\\\netflix_202402_france.xlsx', 'C:\\\\Users\\\\nicol\\\\Desktop\\\\etl\\\\netflix-dataset\\\\src\\\\data\\\\raw\\\\netflix_202403_brasil.xlsx', 'C:\\\\Users\\\\nicol\\\\Desktop\\\\etl\\\\netflix-dataset\\\\src\\\\data\\\\raw\\\\netflix_202403_france.xlsx', 'C:\\\\Users\\\\nicol\\\\Desktop\\\\etl\\\\netflix-dataset\\\\src\\\\data\\\\raw\\\\netflix_202404_brasil.xlsx', 'C:\\\\Users\\\\nicol\\\\Desktop\\\\etl\\\\netflix-dataset\\\\src\\\\data\\\\raw\\\\netflix_202404_france.xlsx', 'C:\\\\Users\\\\nicol\\\\Desktop\\\\etl\\\\netflix-dataset\\\\src\\\\data\\\\raw\\\\netflix_202405_brasil.xlsx', 'C:\\\\Users\\\\nicol\\\\Desktop\\\\etl\\\\netflix-dataset\\\\src\\\\data\\\\raw\\\\netflix_202405_france.xlsx', 'C:\\\\Users\\\\nicol\\\\Desktop\\\\etl\\\\netflix-dataset\\\\src\\\\data\\\\raw\\\\netflix_202406_brasil.xlsx', 'C:\\\\Users\\\\nicol\\\\Desktop\\\\etl\\\\netflix-dataset\\\\src\\\\data\\\\raw\\\\netflix_202406_france.xlsx', 'C:\\\\Users\\\\nicol\\\\Desktop\\\\etl\\\\netflix-dataset\\\\src\\\\data\\\\raw\\\\netflix_202407_brasil.xlsx', 'C:\\\\Users\\\\nicol\\\\Desktop\\\\etl\\\\netflix-dataset\\\\src\\\\data\\\\raw\\\\netflix_202407_france.xlsx', 'C:\\\\Users\\\\nicol\\\\Desktop\\\\etl\\\\netflix-dataset\\\\src\\\\data\\\\raw\\\\netflix_202491_italian.xlsx', 'C:\\\\Users\\\\nicol\\\\Desktop\\\\etl\\\\netflix-dataset\\\\src\\\\data\\\\raw\\\\netflix_202492_italian.xlsx', 'C:\\\\Users\\\\nicol\\\\Desktop\\\\etl\\\\netflix-dataset\\\\src\\\\data\\\\raw\\\\netflix_202493_italian.xlsx', 'C:\\\\Users\\\\nicol\\\\Desktop\\\\etl\\\\netflix-dataset\\\\src\\\\data\\\\raw\\\\netflix_202494_italian.xlsx', 'C:\\\\Users\\\\nicol\\\\Desktop\\\\etl\\\\netflix-dataset\\\\src\\\\data\\\\raw\\\\netflix_202495_italian.xlsx', 'C:\\\\Users\\\\nicol\\\\Desktop\\\\etl\\\\netflix-dataset\\\\src\\\\data\\\\raw\\\\netflix_202496_italian.xlsx', 'C:\\\\Users\\\\nicol\\\\Desktop\\\\etl\\\\netflix-dataset\\\\src\\\\data\\\\raw\\\\netflix_202497_italian.xlsx', 'C:\\\\Users\\\\nicol\\\\Desktop\\\\etl\\\\netflix-dataset\\\\src\\\\data\\\\raw\\\\netflix_202498_italian.xlsx']\n"
     ]
    }
   ],
   "source": [
    "#caminho dos arquivos excel\n",
    "caminho_pasta='C:\\\\Users\\\\nicol\\\\Desktop\\\\etl\\\\netflix-dataset\\\\src\\\\data\\\\raw'\n",
    "\n",
    "#lista todos os arquivos do execel de forma dinamica, juntando todos os arquivos xlsx\n",
    "arquivos_excel=glob.glob(os.path.join(caminho_pasta,'*.xlsx'))\n",
    "\n",
    "# Verificação adicional para garantir que encontrou algo\n",
    "if not arquivos_excel:\n",
    "    print(\"Nenhum arquivo .xlsx encontrado no caminho especificado.\")\n",
    "else:\n",
    "    print(arquivos_excel)"
   ]
  },
  {
   "cell_type": "code",
   "execution_count": 41,
   "metadata": {},
   "outputs": [],
   "source": [
    "#criar vetor de dataframes para guardar os excel\n",
    "dfs=[]\n",
    "\n",
    "for arquivo_excel in arquivos_excel:\n",
    "    try:\n",
    "        #dataframe temporario para guardar as informações de cada arquivo\n",
    "        df_temp=pd.read_excel(arquivo_excel)\n",
    "        \n",
    "        #pega o nome do arquivo e coloca na nova coluna location\n",
    "        #poderia ser feito com split, mas pode ser perigoso as futuras nomeações de arquivos, pois se o padrão for diferente, pode contaminar nossa coluna location\n",
    "        nome_arquivo=os.path.basename(arquivo_excel)\n",
    "        if 'brasil' in nome_arquivo.lower():\n",
    "            df_temp['location']='br'\n",
    "        elif 'france' in nome_arquivo.lower():\n",
    "            df_temp['location']='fr'    \n",
    "        elif 'italian' in nome_arquivo.lower():\n",
    "            df_temp['location']='it' \n",
    "            \n",
    "        #carregar dados na nova coluna campanha baseado no link que possui a identificação da campanha\n",
    "        df_temp['campaign']=df_temp['utm_link'].str.extract(r'utm_campaign=(.*)')\n",
    "        \n",
    "        #depois de pronto, entra em uma dataframe comum\n",
    "        dfs.append(df_temp)\n",
    "        \n",
    "        #print(df_temp)\n",
    "       \n",
    "    except Exception as e:#excesão para erros\n",
    "        print(f\"Erro ao ler arquivo {arquivo_excel}:{e}\")\n",
    "\n"
   ]
  },
  {
   "cell_type": "code",
   "execution_count": null,
   "metadata": {},
   "outputs": [
    {
     "name": "stdout",
     "output_type": "stream",
     "text": [
      "     sale_date     Customer  Contracted Plan  Amount  \\\n",
      "0   2024-02-01    João Silva   Plano Premium    29.9   \n",
      "1   2024-02-05  Maria Santos    Plano Básico    12.9   \n",
      "2   2024-02-10    Pedro Lima    Plano Padrão    19.9   \n",
      "3   2024-02-15     Ana Souza   Plano Premium    29.9   \n",
      "4   2024-02-20  Carlos Ferro    Plano Básico    12.9   \n",
      "..         ...           ...             ...     ...   \n",
      "292 2027-08-25  Enzo Lemoine    Plano Padrão    19.9   \n",
      "293 2027-09-01  Emma Nicolas   Plano Premium    29.9   \n",
      "294 2027-09-05   Léo Bernard    Plano Básico    12.9   \n",
      "295 2027-09-10  Manon Perrin    Plano Padrão    19.9   \n",
      "296 2027-09-15   Hugo Dupont   Plano Premium    29.9   \n",
      "\n",
      "                                              utm_link  Age location  \\\n",
      "0    https://servicostreaming.com.br?utm_campaign=s...   35       br   \n",
      "1    https://servicostreaming.com.br?utm_campaign=fall   28       br   \n",
      "2    https://servicostreaming.com.br?utm_campaign=w...   42       br   \n",
      "3    https://servicostreaming.com.br?utm_campaign=s...   30       br   \n",
      "4    https://servicostreaming.com.br?utm_campaign=v...   25       br   \n",
      "..                                                 ...  ...      ...   \n",
      "292  https://servicostreaming.com.br?utm_campaign=d...   37       it   \n",
      "293  https://servicostreaming.com.br?utm_campaign=j...   34       it   \n",
      "294  https://servicostreaming.com.br?utm_campaign=e...   25       it   \n",
      "295  https://servicostreaming.com.br?utm_campaign=d...   36       it   \n",
      "296  https://servicostreaming.com.br?utm_campaign=j...   29       it   \n",
      "\n",
      "        campaign  \n",
      "0         summer  \n",
      "1           fall  \n",
      "2         winter  \n",
      "3         spring  \n",
      "4       vacation  \n",
      "..           ...  \n",
      "292   discovery5  \n",
      "293     journey6  \n",
      "294  experience6  \n",
      "295   discovery6  \n",
      "296     journey7  \n",
      "\n",
      "[297 rows x 8 columns]\n"
     ]
    }
   ],
   "source": [
    "#verifica se ta vazio\n",
    "if dfs:\n",
    "    #tranforma tudo em uma tabela concatenada, pra gerar uma tabelona\n",
    "    result=pd.concat(dfs,ignore_index=True)\n",
    "    \n",
    "#print(result)\n",
    "    "
   ]
  },
  {
   "cell_type": "code",
   "execution_count": null,
   "metadata": {},
   "outputs": [],
   "source": [
    "#agora o caminho de saida com o rolê finalizado\n",
    "arquivo_saida=os.path.join('C:\\\\Users\\\\nicol\\\\Desktop\\\\etl\\\\netflix-dataset\\\\src\\\\data\\\\ready','arquivo_limpo.xlsx')\n",
    "#print(arquivo_saida)\n",
    "\n",
    "#escreveu o arquivo com o nome e no diretório onde mandamos, em forma de excel\n",
    "write=pd.ExcelWriter(arquivo_saida,engine='xlsxwriter')\n",
    "\n",
    "#resultado, que é onde estão nossos dados, são escritos no execel configurado\n",
    "result.to_excel(write,sheet_name='base',index=True)\n",
    "\n",
    "#salvando o arquivo excel\n",
    "write._save()"
   ]
  }
 ],
 "metadata": {
  "kernelspec": {
   "display_name": "Python 3",
   "language": "python",
   "name": "python3"
  },
  "language_info": {
   "codemirror_mode": {
    "name": "ipython",
    "version": 3
   },
   "file_extension": ".py",
   "mimetype": "text/x-python",
   "name": "python",
   "nbconvert_exporter": "python",
   "pygments_lexer": "ipython3",
   "version": "3.12.2"
  }
 },
 "nbformat": 4,
 "nbformat_minor": 2
}
